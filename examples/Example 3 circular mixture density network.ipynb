{
 "cells": [
  {
   "cell_type": "code",
   "execution_count": 1,
   "id": "e564f35c",
   "metadata": {},
   "outputs": [],
   "source": [
    "import metaSI\n",
    "import numpy as np\n",
    "import torch\n",
    "from matplotlib import pyplot as plt"
   ]
  },
  {
   "cell_type": "code",
   "execution_count": 2,
   "id": "bf2ae9ff",
   "metadata": {},
   "outputs": [
    {
     "name": "stdout",
     "output_type": "stream",
     "text": [
      "Number of datapoints: 10000 \tBatch size:  256 \tIterations per epoch: 39\n"
     ]
    },
    {
     "data": {
      "application/vnd.jupyter.widget-view+json": {
       "model_id": "69afad4d475d4bc798d9641a16359374",
       "version_major": 2,
       "version_minor": 0
      },
      "text/plain": [
       "  0%|          | 1/20000 [00:00<?, ?it/s]"
      ]
     },
     "metadata": {},
     "output_type": "display_data"
    },
    {
     "ename": "ValueError",
     "evalue": "Expected parameter concentration (Tensor of shape (256, 30)) of distribution VonMises(loc: torch.Size([256, 30]), concentration: torch.Size([256, 30])) to satisfy the constraint GreaterThan(lower_bound=0.0), but found invalid values:\ntensor([[-1.8856, -0.9079, -1.7799,  ..., -0.6114,  0.1412, -1.3599],\n        [-1.8856, -0.9079, -1.7799,  ..., -0.6114,  0.1412, -1.3599],\n        [-1.8856, -0.9079, -1.7799,  ..., -0.6114,  0.1412, -1.3599],\n        ...,\n        [-1.8856, -0.9079, -1.7799,  ..., -0.6114,  0.1412, -1.3599],\n        [-1.8856, -0.9079, -1.7799,  ..., -0.6114,  0.1412, -1.3599],\n        [-1.8856, -0.9079, -1.7799,  ..., -0.6114,  0.1412, -1.3599]],\n       grad_fn=<MulBackward0>)",
     "output_type": "error",
     "traceback": [
      "\u001b[1;31m---------------------------------------------------------------------------\u001b[0m",
      "\u001b[1;31mValueError\u001b[0m                                Traceback (most recent call last)",
      "Input \u001b[1;32mIn [2]\u001b[0m, in \u001b[0;36m<cell line: 17>\u001b[1;34m()\u001b[0m\n\u001b[0;32m     17\u001b[0m \u001b[38;5;28;01mif\u001b[39;00m \u001b[38;5;129;01mnot\u001b[39;00m load:\n\u001b[0;32m     18\u001b[0m     dist_net \u001b[38;5;241m=\u001b[39m Circular_mixture_network(z_train\u001b[38;5;241m.\u001b[39mshape[\u001b[38;5;241m1\u001b[39m], \u001b[38;5;28;01mNone\u001b[39;00m, norm\u001b[38;5;241m=\u001b[39mnorm, n_components\u001b[38;5;241m=\u001b[39m\u001b[38;5;241m30\u001b[39m)\n\u001b[1;32m---> 19\u001b[0m     \u001b[43mdist_net\u001b[49m\u001b[38;5;241;43m.\u001b[39;49m\u001b[43mfit\u001b[49m\u001b[43m(\u001b[49m\u001b[43m(\u001b[49m\u001b[43mz_train\u001b[49m\u001b[43m,\u001b[49m\u001b[43m \u001b[49m\u001b[43mth_train\u001b[49m\u001b[43m)\u001b[49m\u001b[43m,\u001b[49m\u001b[43m \u001b[49m\u001b[43m(\u001b[49m\u001b[43mz_val\u001b[49m\u001b[43m,\u001b[49m\u001b[43m \u001b[49m\u001b[43mth_val\u001b[49m\u001b[43m)\u001b[49m\u001b[43m,\u001b[49m\u001b[43m \u001b[49m\u001b[43miterations\u001b[49m\u001b[38;5;241;43m=\u001b[39;49m\u001b[38;5;241;43m20_000\u001b[39;49m\u001b[43m,\u001b[49m\u001b[43m \u001b[49m\u001b[43mprint_freq\u001b[49m\u001b[38;5;241;43m=\u001b[39;49m\u001b[38;5;241;43m1000\u001b[39;49m\u001b[43m)\u001b[49m\n\u001b[0;32m     20\u001b[0m     dist_net\u001b[38;5;241m.\u001b[39msave_to_file(filename)\n\u001b[0;32m     21\u001b[0m \u001b[38;5;28;01melse\u001b[39;00m:\n",
      "File \u001b[1;32md:\\drive\\phd-ee-cs\\metasi\\metaSI\\utils\\fitting.py:46\u001b[0m, in \u001b[0;36mnnModule_with_fit.fit\u001b[1;34m(self, train, val, iterations, batch_size, loss_kwargs, print_freq, loss_kwargs_val, call_back_validation, val_freq, optimizer, save_freq, save_filename)\u001b[0m\n\u001b[0;32m     44\u001b[0m \u001b[38;5;28;01mtry\u001b[39;00m:\n\u001b[0;32m     45\u001b[0m     \u001b[38;5;28;01mfor\u001b[39;00m iteration, batch \u001b[38;5;129;01min\u001b[39;00m data_iter:\n\u001b[1;32m---> 46\u001b[0m         loss \u001b[38;5;241m=\u001b[39m \u001b[38;5;28;43mself\u001b[39;49m\u001b[38;5;241;43m.\u001b[39;49m\u001b[43mloss\u001b[49m\u001b[43m(\u001b[49m\u001b[38;5;241;43m*\u001b[39;49m\u001b[43mbatch\u001b[49m\u001b[43m,\u001b[49m\u001b[38;5;241;43m*\u001b[39;49m\u001b[38;5;241;43m*\u001b[39;49m\u001b[43mloss_kwargs\u001b[49m\u001b[43m)\u001b[49m\n\u001b[0;32m     47\u001b[0m         \u001b[38;5;28mself\u001b[39m\u001b[38;5;241m.\u001b[39moptimizer\u001b[38;5;241m.\u001b[39mzero_grad()\n\u001b[0;32m     48\u001b[0m         loss\u001b[38;5;241m.\u001b[39mbackward()\n",
      "File \u001b[1;32md:\\drive\\phd-ee-cs\\metasi\\metaSI\\density_networks\\angle.py:50\u001b[0m, in \u001b[0;36mCircular_mixture_network.loss\u001b[1;34m(self, z, y)\u001b[0m\n\u001b[0;32m     49\u001b[0m \u001b[38;5;28;01mdef\u001b[39;00m \u001b[38;5;21mloss\u001b[39m(\u001b[38;5;28mself\u001b[39m, z, y):\n\u001b[1;32m---> 50\u001b[0m     dist \u001b[38;5;241m=\u001b[39m \u001b[38;5;28;43mself\u001b[39;49m\u001b[38;5;241;43m.\u001b[39;49m\u001b[43mget_dist_normed\u001b[49m\u001b[43m(\u001b[49m\u001b[43mz\u001b[49m\u001b[43m)\u001b[49m\n\u001b[0;32m     51\u001b[0m     \u001b[38;5;28;01mreturn\u001b[39;00m torch\u001b[38;5;241m.\u001b[39mmean(\u001b[38;5;241m-\u001b[39m dist\u001b[38;5;241m.\u001b[39mlog_prob(y))\u001b[38;5;241m/\u001b[39m\u001b[38;5;28mself\u001b[39m\u001b[38;5;241m.\u001b[39mnth_val \u001b[38;5;241m+\u001b[39m \u001b[38;5;241m-\u001b[39m \u001b[38;5;241m1.4189385332046727417803297364056176\u001b[39m\n",
      "File \u001b[1;32md:\\drive\\phd-ee-cs\\metasi\\metaSI\\density_networks\\angle.py:47\u001b[0m, in \u001b[0;36mCircular_mixture_network.get_dist_normed\u001b[1;34m(self, z)\u001b[0m\n\u001b[0;32m     45\u001b[0m loc \u001b[38;5;241m=\u001b[39m \u001b[38;5;28mself\u001b[39m\u001b[38;5;241m.\u001b[39mloc_net(z)\u001b[38;5;241m*\u001b[39mtorch\u001b[38;5;241m.\u001b[39mpi \u001b[38;5;66;03m#output is (Nb, n_components)\u001b[39;00m\n\u001b[0;32m     46\u001b[0m k \u001b[38;5;241m=\u001b[39m torch\u001b[38;5;241m.\u001b[39mexp(\u001b[38;5;28mself\u001b[39m\u001b[38;5;241m.\u001b[39mk_net(z)\u001b[38;5;241m+\u001b[39m\u001b[38;5;241m3\u001b[39m) \u001b[38;5;66;03m#output is (Nb, n_components)\u001b[39;00m\n\u001b[1;32m---> 47\u001b[0m \u001b[38;5;28;01mreturn\u001b[39;00m \u001b[43mMixture_VonMises\u001b[49m\u001b[43m(\u001b[49m\u001b[43mloc\u001b[49m\u001b[43m,\u001b[49m\u001b[43m \u001b[49m\u001b[43mk\u001b[49m\u001b[43m,\u001b[49m\u001b[43m \u001b[49m\u001b[43mlog_weights\u001b[49m\u001b[38;5;241;43m=\u001b[39;49m\u001b[43mlogw\u001b[49m\u001b[43m)\u001b[49m\n",
      "File \u001b[1;32md:\\drive\\phd-ee-cs\\metasi\\metaSI\\distributions\\circular.py:54\u001b[0m, in \u001b[0;36mMixture_VonMises\u001b[1;34m(k, loc, weights, log_weights)\u001b[0m\n\u001b[0;32m     53\u001b[0m \u001b[38;5;28;01mdef\u001b[39;00m \u001b[38;5;21mMixture_VonMises\u001b[39m(k, loc, weights\u001b[38;5;241m=\u001b[39m\u001b[38;5;28;01mNone\u001b[39;00m, log_weights\u001b[38;5;241m=\u001b[39m\u001b[38;5;28;01mNone\u001b[39;00m):\n\u001b[1;32m---> 54\u001b[0m     dists \u001b[38;5;241m=\u001b[39m \u001b[43mVonMises\u001b[49m\u001b[43m(\u001b[49m\u001b[43mloc\u001b[49m\u001b[43m,\u001b[49m\u001b[43m \u001b[49m\u001b[43mk\u001b[49m\u001b[43m)\u001b[49m\n\u001b[0;32m     55\u001b[0m     \u001b[38;5;28;01mreturn\u001b[39;00m Mixture(dists, weights, log_weights)\n",
      "File \u001b[1;32md:\\drive\\phd-ee-cs\\metasi\\metaSI\\distributions\\circular.py:14\u001b[0m, in \u001b[0;36mVonMises.__init__\u001b[1;34m(self, loc, k)\u001b[0m\n\u001b[0;32m     12\u001b[0m \u001b[38;5;28mself\u001b[39m\u001b[38;5;241m.\u001b[39mk \u001b[38;5;241m=\u001b[39m torch\u001b[38;5;241m.\u001b[39mabs(k)\n\u001b[0;32m     13\u001b[0m \u001b[38;5;28mself\u001b[39m\u001b[38;5;241m.\u001b[39mloc \u001b[38;5;241m=\u001b[39m ((loc\u001b[38;5;241m+\u001b[39mtorch\u001b[38;5;241m.\u001b[39mpi\u001b[38;5;241m*\u001b[39m(k\u001b[38;5;241m<\u001b[39m\u001b[38;5;241m0\u001b[39m))\u001b[38;5;241m+\u001b[39mtorch\u001b[38;5;241m.\u001b[39mpi)\u001b[38;5;241m%\u001b[39m(\u001b[38;5;241m2\u001b[39m\u001b[38;5;241m*\u001b[39mtorch\u001b[38;5;241m.\u001b[39mpi)\u001b[38;5;241m-\u001b[39mtorch\u001b[38;5;241m.\u001b[39mpi\n\u001b[1;32m---> 14\u001b[0m \u001b[38;5;28mself\u001b[39m\u001b[38;5;241m.\u001b[39mdist \u001b[38;5;241m=\u001b[39m \u001b[43mtorch\u001b[49m\u001b[38;5;241;43m.\u001b[39;49m\u001b[43mdistributions\u001b[49m\u001b[38;5;241;43m.\u001b[39;49m\u001b[43mVonMises\u001b[49m\u001b[43m(\u001b[49m\u001b[43mloc\u001b[49m\u001b[43m,\u001b[49m\u001b[43m \u001b[49m\u001b[43mk\u001b[49m\u001b[43m)\u001b[49m\n",
      "File \u001b[1;32mD:\\Programs\\anaconda3\\lib\\site-packages\\torch\\distributions\\von_mises.py:98\u001b[0m, in \u001b[0;36mVonMises.__init__\u001b[1;34m(self, loc, concentration, validate_args)\u001b[0m\n\u001b[0;32m     95\u001b[0m rho \u001b[38;5;241m=\u001b[39m (tau \u001b[38;5;241m-\u001b[39m (\u001b[38;5;241m2\u001b[39m \u001b[38;5;241m*\u001b[39m tau)\u001b[38;5;241m.\u001b[39msqrt()) \u001b[38;5;241m/\u001b[39m (\u001b[38;5;241m2\u001b[39m \u001b[38;5;241m*\u001b[39m \u001b[38;5;28mself\u001b[39m\u001b[38;5;241m.\u001b[39mconcentration)\n\u001b[0;32m     96\u001b[0m \u001b[38;5;28mself\u001b[39m\u001b[38;5;241m.\u001b[39m_proposal_r \u001b[38;5;241m=\u001b[39m (\u001b[38;5;241m1\u001b[39m \u001b[38;5;241m+\u001b[39m rho \u001b[38;5;241m*\u001b[39m\u001b[38;5;241m*\u001b[39m \u001b[38;5;241m2\u001b[39m) \u001b[38;5;241m/\u001b[39m (\u001b[38;5;241m2\u001b[39m \u001b[38;5;241m*\u001b[39m rho)\n\u001b[1;32m---> 98\u001b[0m \u001b[38;5;28;43msuper\u001b[39;49m\u001b[43m(\u001b[49m\u001b[43mVonMises\u001b[49m\u001b[43m,\u001b[49m\u001b[43m \u001b[49m\u001b[38;5;28;43mself\u001b[39;49m\u001b[43m)\u001b[49m\u001b[38;5;241;43m.\u001b[39;49m\u001b[38;5;21;43m__init__\u001b[39;49m\u001b[43m(\u001b[49m\u001b[43mbatch_shape\u001b[49m\u001b[43m,\u001b[49m\u001b[43m \u001b[49m\u001b[43mevent_shape\u001b[49m\u001b[43m,\u001b[49m\u001b[43m \u001b[49m\u001b[43mvalidate_args\u001b[49m\u001b[43m)\u001b[49m\n",
      "File \u001b[1;32mD:\\Programs\\anaconda3\\lib\\site-packages\\torch\\distributions\\distribution.py:55\u001b[0m, in \u001b[0;36mDistribution.__init__\u001b[1;34m(self, batch_shape, event_shape, validate_args)\u001b[0m\n\u001b[0;32m     53\u001b[0m         valid \u001b[38;5;241m=\u001b[39m constraint\u001b[38;5;241m.\u001b[39mcheck(value)\n\u001b[0;32m     54\u001b[0m         \u001b[38;5;28;01mif\u001b[39;00m \u001b[38;5;129;01mnot\u001b[39;00m valid\u001b[38;5;241m.\u001b[39mall():\n\u001b[1;32m---> 55\u001b[0m             \u001b[38;5;28;01mraise\u001b[39;00m \u001b[38;5;167;01mValueError\u001b[39;00m(\n\u001b[0;32m     56\u001b[0m                 \u001b[38;5;124mf\u001b[39m\u001b[38;5;124m\"\u001b[39m\u001b[38;5;124mExpected parameter \u001b[39m\u001b[38;5;132;01m{\u001b[39;00mparam\u001b[38;5;132;01m}\u001b[39;00m\u001b[38;5;124m \u001b[39m\u001b[38;5;124m\"\u001b[39m\n\u001b[0;32m     57\u001b[0m                 \u001b[38;5;124mf\u001b[39m\u001b[38;5;124m\"\u001b[39m\u001b[38;5;124m(\u001b[39m\u001b[38;5;132;01m{\u001b[39;00m\u001b[38;5;28mtype\u001b[39m(value)\u001b[38;5;241m.\u001b[39m\u001b[38;5;18m__name__\u001b[39m\u001b[38;5;132;01m}\u001b[39;00m\u001b[38;5;124m of shape \u001b[39m\u001b[38;5;132;01m{\u001b[39;00m\u001b[38;5;28mtuple\u001b[39m(value\u001b[38;5;241m.\u001b[39mshape)\u001b[38;5;132;01m}\u001b[39;00m\u001b[38;5;124m) \u001b[39m\u001b[38;5;124m\"\u001b[39m\n\u001b[0;32m     58\u001b[0m                 \u001b[38;5;124mf\u001b[39m\u001b[38;5;124m\"\u001b[39m\u001b[38;5;124mof distribution \u001b[39m\u001b[38;5;132;01m{\u001b[39;00m\u001b[38;5;28mrepr\u001b[39m(\u001b[38;5;28mself\u001b[39m)\u001b[38;5;132;01m}\u001b[39;00m\u001b[38;5;124m \u001b[39m\u001b[38;5;124m\"\u001b[39m\n\u001b[0;32m     59\u001b[0m                 \u001b[38;5;124mf\u001b[39m\u001b[38;5;124m\"\u001b[39m\u001b[38;5;124mto satisfy the constraint \u001b[39m\u001b[38;5;132;01m{\u001b[39;00m\u001b[38;5;28mrepr\u001b[39m(constraint)\u001b[38;5;132;01m}\u001b[39;00m\u001b[38;5;124m, \u001b[39m\u001b[38;5;124m\"\u001b[39m\n\u001b[0;32m     60\u001b[0m                 \u001b[38;5;124mf\u001b[39m\u001b[38;5;124m\"\u001b[39m\u001b[38;5;124mbut found invalid values:\u001b[39m\u001b[38;5;130;01m\\n\u001b[39;00m\u001b[38;5;132;01m{\u001b[39;00mvalue\u001b[38;5;132;01m}\u001b[39;00m\u001b[38;5;124m\"\u001b[39m\n\u001b[0;32m     61\u001b[0m             )\n\u001b[0;32m     62\u001b[0m \u001b[38;5;28msuper\u001b[39m(Distribution, \u001b[38;5;28mself\u001b[39m)\u001b[38;5;241m.\u001b[39m\u001b[38;5;21m__init__\u001b[39m()\n",
      "\u001b[1;31mValueError\u001b[0m: Expected parameter concentration (Tensor of shape (256, 30)) of distribution VonMises(loc: torch.Size([256, 30]), concentration: torch.Size([256, 30])) to satisfy the constraint GreaterThan(lower_bound=0.0), but found invalid values:\ntensor([[-1.8856, -0.9079, -1.7799,  ..., -0.6114,  0.1412, -1.3599],\n        [-1.8856, -0.9079, -1.7799,  ..., -0.6114,  0.1412, -1.3599],\n        [-1.8856, -0.9079, -1.7799,  ..., -0.6114,  0.1412, -1.3599],\n        ...,\n        [-1.8856, -0.9079, -1.7799,  ..., -0.6114,  0.1412, -1.3599],\n        [-1.8856, -0.9079, -1.7799,  ..., -0.6114,  0.1412, -1.3599],\n        [-1.8856, -0.9079, -1.7799,  ..., -0.6114,  0.1412, -1.3599]],\n       grad_fn=<MulBackward0>)"
     ]
    }
   ],
   "source": [
    "from metaSI.density_networks import Circular_mixture_network\n",
    "from metaSI.data import Norm\n",
    "\n",
    "N = 10000\n",
    "th_train = np.random.uniform(-1,1,size=N)+torch.pi\n",
    "z_train = np.zeros((N,0))\n",
    "th_val = np.random.uniform(-1,1,size=N)+torch.pi\n",
    "z_val = np.zeros((N,0))\n",
    "th_test = np.random.uniform(-1,1,size=N)+torch.pi\n",
    "z_test = np.zeros((N,0))\n",
    "\n",
    "norm = Norm(z_train, th_train)\n",
    "norm.ystd = 1\n",
    "norm.ymean = 0\n",
    "\n",
    "load, filename = False, 'models/angle-pdf-static-uniform-dist-model'\n",
    "if not load:\n",
    "    dist_net = Circular_mixture_network(z_train.shape[1], None, norm=norm, n_components=30)\n",
    "    dist_net.fit((z_train, th_train), (z_val, th_val), iterations=20_000, print_freq=1000)\n",
    "    dist_net.save_to_file(filename)\n",
    "else:\n",
    "    dist_net = torch.load(filename)\n",
    "\n",
    "z_normed, th_normed = dist_net.make_training_arrays((np.zeros((1,0)),th_train))\n",
    "dist = dist_net.get_dist_normed(z_normed)\n",
    "th_testing = torch.linspace(-torch.pi,torch.pi,500)\n",
    "plt.plot(th_testing.numpy(),dist[0].prob(th_testing).detach().numpy(),'k')\n",
    "plt.plot(th_testing.numpy(),dist[0].prob_per_weighted(th_testing).detach().numpy(),'r')\n",
    "plt.hist((th_test+np.pi)%(2*np.pi) - np.pi,bins=int(N**0.5), density=True)\n",
    "plt.show()"
   ]
  },
  {
   "cell_type": "code",
   "execution_count": 17,
   "id": "c70b7819",
   "metadata": {},
   "outputs": [
    {
     "data": {
      "image/png": "[encoded data removed]",
      "text/plain": [
       "<Figure size 640x480 with 1 Axes>"
      ]
     },
     "metadata": {},
     "output_type": "display_data"
    },
    {
     "data": {
      "text/plain": [
       "tensor(True)"
      ]
     },
     "execution_count": 17,
     "metadata": {},
     "output_type": "execute_result"
    }
   ],
   "source": [
    "dist0 = dist[0]\n",
    "th_test_0 = torch.linspace(-torch.pi,torch.pi,300)\n",
    "\n",
    "pth = dist0.prob(th_test_0)\n",
    "real_part = torch.mean(torch.cos(th_test_0) * pth, axis=0)*2*torch.pi\n",
    "imaginary_part = torch.mean(torch.sin(th_test_0) * pth, axis=0)*2*torch.pi\n",
    "plt.plot(th_test_0.numpy(), pth.detach().numpy())\n",
    "plt.show()\n",
    "torch.atan2(imaginary_part, real_part)\n",
    "\n"
   ]
  },
  {
   "cell_type": "code",
   "execution_count": 15,
   "id": "b95492cd",
   "metadata": {},
   "outputs": [
    {
     "name": "stdout",
     "output_type": "stream",
     "text": [
      "System_data_norm: (uumeean=[-0.00092294 -0.00038089], ustd=[0.70771784 0.7064859 ], ymean=0.0, ystd=1.0)\n",
      "Number of datapoints: 100000 \tBatch size:  256 \tIterations per epoch: 390\n"
     ]
    },
    {
     "data": {
      "application/vnd.jupyter.widget-view+json": {
       "model_id": "193f977aba8145d5bb78b805b0bf64e9",
       "version_major": 2,
       "version_minor": 0
      },
      "text/plain": [
       "  0%|          | 1/1000000 [00:00<?, ?it/s]"
      ]
     },
     "metadata": {},
     "output_type": "display_data"
    },
    {
     "name": "stdout",
     "output_type": "stream",
     "text": [
      "it   2,000 loss -0.624! loss val -0.645!\n",
      "it   4,000 loss -0.662! loss val -0.666!\n",
      "it   6,000 loss -0.672! loss val -0.673!\n",
      "it   8,000 loss -0.677! loss val -0.677!\n",
      "it  10,000 loss -0.682! loss val -0.678!\n",
      "it  12,000 loss -0.683! loss val -0.685!\n",
      "it  14,000 loss -0.685! loss val -0.683 \n",
      "it  16,000 loss -0.687! loss val -0.679 \n",
      "it  18,000 loss -0.687! loss val -0.684 \n",
      "it  20,000 loss -0.689! loss val -0.689!\n",
      "it  22,000 loss -0.690! loss val -0.687 \n",
      "it  24,000 loss -0.691! loss val -0.691!\n",
      "it  26,000 loss -0.691! loss val -0.690 \n",
      "it  28,000 loss -0.692! loss val -0.687 \n",
      "it  30,000 loss -0.692! loss val -0.694!\n",
      "it  32,000 loss -0.693! loss val -0.691 \n",
      "it  34,000 loss -0.694! loss val -0.690 \n",
      "it  36,000 loss -0.695! loss val -0.690 \n",
      "it  38,000 loss -0.695! loss val -0.693 \n",
      "it  40,000 loss -0.695! loss val -0.690 \n",
      "it  42,000 loss -0.696! loss val -0.690 \n",
      "it  44,000 loss -0.696! loss val -0.692 \n",
      "it  46,000 loss -0.696! loss val -0.692 \n",
      "it  48,000 loss -0.696  loss val -0.695!\n",
      "it  50,000 loss -0.696! loss val -0.684 \n",
      "it  52,000 loss -0.696  loss val -0.696!\n",
      "it  54,000 loss -0.697! loss val -0.687 \n",
      "it  56,000 loss -0.697! loss val -0.690 \n",
      "it  58,000 loss -0.697! loss val -0.693 \n",
      "it  60,000 loss -0.697! loss val -0.695 \n",
      "it  62,000 loss -0.697  loss val -0.693 \n",
      "it  64,000 loss -0.698! loss val -0.696!\n",
      "it  66,000 loss -0.698! loss val -0.694 \n",
      "it  68,000 loss -0.698  loss val -0.696 \n",
      "it  70,000 loss -0.698! loss val -0.693 \n",
      "it  72,000 loss -0.698! loss val -0.695 \n",
      "it  74,000 loss -0.698  loss val -0.696!\n",
      "it  76,000 loss -0.698! loss val -0.695 \n",
      "it  78,000 loss -0.698! loss val -0.695 \n",
      "it  80,000 loss -0.698! loss val -0.695 \n",
      "it  82,000 loss -0.699! loss val -0.694 \n",
      "it  84,000 loss -0.699! loss val -0.691 \n",
      "it  86,000 loss -0.699  loss val -0.693 \n",
      "it  88,000 loss -0.699! loss val -0.695 \n",
      "it  90,000 loss -0.699  loss val -0.694 \n",
      "it  92,000 loss -0.699  loss val -0.696 \n",
      "it  94,000 loss -0.699! loss val -0.691 \n",
      "it  96,000 loss -0.699  loss val -0.697!\n",
      "it  98,000 loss -0.699  loss val -0.696 \n",
      "it 100,000 loss -0.700! loss val -0.695 \n",
      "it 102,000 loss -0.700! loss val -0.685 \n",
      "it 104,000 loss -0.700  loss val -0.697 \n",
      "it 106,000 loss -0.700! loss val -0.688 \n",
      "it 108,000 loss -0.700! loss val -0.696 \n",
      "it 110,000 loss -0.700! loss val -0.695 \n",
      "it 112,000 loss -0.700  loss val -0.693 \n",
      "it 114,000 loss -0.700  loss val -0.697!\n",
      "it 116,000 loss -0.701! loss val -0.697 \n",
      "it 118,000 loss -0.701! loss val -0.696 \n",
      "it 120,000 loss -0.701  loss val -0.697 \n",
      "it 122,000 loss -0.701! loss val -0.695 \n",
      "it 124,000 loss -0.701  loss val -0.697 \n",
      "it 126,000 loss -0.701! loss val -0.700!\n",
      "it 128,000 loss -0.701! loss val -0.697 \n",
      "it 130,000 loss -0.702! loss val -0.692 \n",
      "it 132,000 loss -0.701  loss val -0.695 \n",
      "it 134,000 loss -0.702! loss val -0.694 \n",
      "it 136,000 loss -0.701  loss val -0.695 \n",
      "it 138,000 loss -0.702  loss val -0.701!\n",
      "it 140,000 loss -0.702  loss val -0.696 \n",
      "stopping early, Saving parameters to checkpoint self.checkpoints[\"last\"] and loading self.checkpoints[\"lowest_val_loss\"]\n"
     ]
    }
   ],
   "source": [
    "def create_angle_data(N):\n",
    "    th0 = (torch.rand(N)*2-1)*torch.pi\n",
    "    z = torch.stack([torch.cos(th0), torch.sin(th0)], dim=1)\n",
    "    th = th0 + (torch.rand(N)*2-1)\n",
    "    return (z,th)\n",
    "train, val, test = create_angle_data(100_000), create_angle_data(10_000), create_angle_data(100_000)\n",
    "\n",
    "norm = Norm(u=train[0].numpy())\n",
    "print(norm)#norm.umean, norm.ustd, norm.ymean, norm.ystd\n",
    "\n",
    "load, filename = False, 'models/angle-pdf-1-input-par-model'\n",
    "if not load:\n",
    "    dist_net = Circular_mixture_network(nz=train[0].shape[1], nth=None, norm=norm, n_components=30)\n",
    "    dist_net.fit(train=train, val=val, iterations=1000_000, print_freq=2000)\n",
    "    dist_net.save_to_file(filename)\n",
    "else:\n",
    "    dist_net = torch.load(filename)"
   ]
  },
  {
   "cell_type": "code",
   "execution_count": 16,
   "id": "eac6046e",
   "metadata": {},
   "outputs": [],
   "source": [
    "th_test = torch.linspace(-torch.pi, torch.pi, 500)\n",
    "dist_out = dist_net.get_dist(torch.stack([torch.cos(th_test), torch.sin(th_test)],axis=1))"
   ]
  },
  {
   "cell_type": "code",
   "execution_count": 17,
   "id": "b98029a1",
   "metadata": {},
   "outputs": [
    {
     "data": {
      "image/png": "[encoded data removed]",
      "text/plain": [
       "<Figure size 432x288 with 1 Axes>"
      ]
     },
     "metadata": {
      "needs_background": "light"
     },
     "output_type": "display_data"
    }
   ],
   "source": [
    "th_visual = torch.linspace(-torch.pi, torch.pi, 200)\n",
    "pth = dist_out.prob(th_visual[:,None]).detach().numpy()\n",
    "plt.contourf(th_test.numpy(), th_visual.numpy(), pth)\n",
    "plt.show()\n"
   ]
  },
  {
   "cell_type": "code",
   "execution_count": null,
   "id": "218a0461",
   "metadata": {},
   "outputs": [],
   "source": []
  }
 ],
 "metadata": {
  "kernelspec": {
   "display_name": "Python 3",
   "language": "python",
   "name": "python3"
  },
  "language_info": {
   "codemirror_mode": {
    "name": "ipython",
    "version": 3
   },
   "file_extension": ".py",
   "mimetype": "text/x-python",
   "name": "python",
   "nbconvert_exporter": "python",
   "pygments_lexer": "ipython3",
   "version": "3.8.8"
  },
  "vscode": {
   "interpreter": {
    "hash": "aaf211ba2da88717c2ccd1f580fe12b87563c150fc404d131ed4c86435f2ab19"
   }
  }
 },
 "nbformat": 4,
 "nbformat_minor": 5
}
